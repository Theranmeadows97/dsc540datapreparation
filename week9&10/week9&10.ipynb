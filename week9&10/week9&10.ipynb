{
 "cells": [
  {
   "cell_type": "markdown",
   "metadata": {},
   "source": [
    "# Activity 9"
   ]
  },
  {
   "cell_type": "markdown",
   "metadata": {},
   "source": [
    "1. Import the necessary libraries, including regex and beautifulsoup."
   ]
  },
  {
   "cell_type": "code",
   "execution_count": 24,
   "metadata": {},
   "outputs": [],
   "source": [
    "import urllib.request, urllib.parse, urllib.error\n",
    "import requests\n",
    "from bs4 import BeautifulSoup\n",
    "import ssl\n",
    "import re"
   ]
  },
  {
   "cell_type": "markdown",
   "metadata": {},
   "source": [
    "2. Check the SSL certificate."
   ]
  },
  {
   "cell_type": "code",
   "execution_count": 25,
   "metadata": {},
   "outputs": [],
   "source": [
    "ctx = ssl.create_default_context()\n",
    "ctx.check_hostname = False\n",
    "ctx.verify_mode = ssl.CERT_NONE"
   ]
  },
  {
   "cell_type": "markdown",
   "metadata": {},
   "source": [
    "3. Read the HTML from the URL."
   ]
  },
  {
   "cell_type": "code",
   "execution_count": 26,
   "metadata": {},
   "outputs": [],
   "source": [
    "url = 'https://www.gutenberg.org/browse/scores/top'"
   ]
  },
  {
   "cell_type": "code",
   "execution_count": 27,
   "metadata": {},
   "outputs": [],
   "source": [
    "url_response = requests.get(url)"
   ]
  },
  {
   "cell_type": "markdown",
   "metadata": {},
   "source": [
    "4. Write a small function to check the status of the web request."
   ]
  },
  {
   "cell_type": "code",
   "execution_count": 28,
   "metadata": {},
   "outputs": [],
   "source": [
    "def status_check(response):\n",
    "    if response.status_code == 200:\n",
    "        print(\"You are connected.\")\n",
    "    else:\n",
    "        print(\"Try again. Connection failed\")"
   ]
  },
  {
   "cell_type": "code",
   "execution_count": 29,
   "metadata": {},
   "outputs": [
    {
     "name": "stdout",
     "output_type": "stream",
     "text": [
      "You are connected.\n"
     ]
    }
   ],
   "source": [
    "status_check(url_response)"
   ]
  },
  {
   "cell_type": "markdown",
   "metadata": {},
   "source": [
    "5. Decode the response and pass this on to BeautifulSoup for HTML parsing."
   ]
  },
  {
   "cell_type": "code",
   "execution_count": 30,
   "metadata": {},
   "outputs": [],
   "source": [
    "url_content = url_response.content.decode(url_response.encoding)"
   ]
  },
  {
   "cell_type": "code",
   "execution_count": 31,
   "metadata": {},
   "outputs": [],
   "source": [
    "soup = BeautifulSoup(url_content, 'html.parser')"
   ]
  },
  {
   "cell_type": "markdown",
   "metadata": {},
   "source": [
    "6. Find all the href tags and store them in the list of links. Check what the list looks\n",
    "like – print the first 30 elements."
   ]
  },
  {
   "cell_type": "code",
   "execution_count": 32,
   "metadata": {},
   "outputs": [],
   "source": [
    "href_list = []"
   ]
  },
  {
   "cell_type": "code",
   "execution_count": 33,
   "metadata": {},
   "outputs": [],
   "source": [
    "for link in soup.find_all('a'):\n",
    "    href_list.append(link.get('href'))"
   ]
  },
  {
   "cell_type": "code",
   "execution_count": 34,
   "metadata": {},
   "outputs": [
    {
     "data": {
      "text/plain": [
       "['/',\n",
       " '/about/',\n",
       " '/about/',\n",
       " '/policy/collection_development.html',\n",
       " '/about/contact_information.html',\n",
       " '/about/background/',\n",
       " '/policy/permission.html',\n",
       " '/policy/privacy_policy.html',\n",
       " '/policy/terms_of_use.html',\n",
       " '/ebooks/',\n",
       " '/ebooks/',\n",
       " '/ebooks/bookshelf/',\n",
       " '/browse/scores/top',\n",
       " '/ebooks/offline_catalogs.html',\n",
       " '/help/',\n",
       " '/help/',\n",
       " '/help/copyright.html',\n",
       " '/help/errata.html',\n",
       " '/help/file_formats.html',\n",
       " '/help/faq.html',\n",
       " '/policy/',\n",
       " '/help/public_domain_ebook_submission.html',\n",
       " '/help/submitting_your_own_work.html',\n",
       " '/help/mobile.html',\n",
       " '/attic/',\n",
       " '/donate/',\n",
       " '/donate/',\n",
       " 'pretty-pictures',\n",
       " '#books-last1',\n",
       " '#authors-last1']"
      ]
     },
     "execution_count": 34,
     "metadata": {},
     "output_type": "execute_result"
    }
   ],
   "source": [
    "href_list[:30]"
   ]
  },
  {
   "cell_type": "markdown",
   "metadata": {},
   "source": [
    "7. Use a regular expression to find the numeric digits in these links. These are the file\n",
    "numbers for the top 100 eBooks."
   ]
  },
  {
   "cell_type": "markdown",
   "metadata": {},
   "source": [
    "8. Initialize the empty list to hold the file numbers over an appropriate range and use\n",
    "regex to find the numeric digits in the link href string. Use the findall method."
   ]
  },
  {
   "cell_type": "code",
   "execution_count": 35,
   "metadata": {},
   "outputs": [],
   "source": [
    "file_nums = []"
   ]
  },
  {
   "cell_type": "code",
   "execution_count": 43,
   "metadata": {},
   "outputs": [],
   "source": [
    "for i in range(33, 133):\n",
    "    link = href_list[i]\n",
    "    link = link.strip()\n",
    "    num = re.findall('[0-9]+',link)\n",
    "    if len(num) == 1:\n",
    "        file_nums.append(int(num[0]))"
   ]
  },
  {
   "cell_type": "code",
   "execution_count": 44,
   "metadata": {},
   "outputs": [
    {
     "data": {
      "text/plain": [
       "[22381,\n",
       " 30,\n",
       " 84,\n",
       " 1342,\n",
       " 1513,\n",
       " 25344,\n",
       " 345,\n",
       " 5200,\n",
       " 67990,\n",
       " 64317,\n",
       " 33283,\n",
       " 11,\n",
       " 174,\n",
       " 844,\n",
       " 1952,\n",
       " 2542,\n",
       " 1080,\n",
       " 43,\n",
       " 1260,\n",
       " 98,\n",
       " 1661,\n",
       " 25282,\n",
       " 41,\n",
       " 1232,\n",
       " 2591,\n",
       " 71944,\n",
       " 1400,\n",
       " 71941,\n",
       " 408,\n",
       " 6130,\n",
       " 2701,\n",
       " 71945,\n",
       " 71939,\n",
       " 71943,\n",
       " 71942,\n",
       " 28054,\n",
       " 31284,\n",
       " 76,\n",
       " 23,\n",
       " 2554,\n",
       " 46,\n",
       " 1399,\n",
       " 219,\n",
       " 2814,\n",
       " 27827,\n",
       " 205,\n",
       " 2600,\n",
       " 768,\n",
       " 3207,\n",
       " 55,\n",
       " 932,\n",
       " 996,\n",
       " 2148,\n",
       " 41445,\n",
       " 10007,\n",
       " 1184,\n",
       " 16,\n",
       " 4300,\n",
       " 1727,\n",
       " 45,\n",
       " 24869,\n",
       " 5740,\n",
       " 244,\n",
       " 16328,\n",
       " 7370,\n",
       " 3825,\n",
       " 42324,\n",
       " 74,\n",
       " 2000,\n",
       " 71940,\n",
       " 15399,\n",
       " 2852,\n",
       " 71937,\n",
       " 1250,\n",
       " 514,\n",
       " 2680,\n",
       " 6133,\n",
       " 1497,\n",
       " 30254,\n",
       " 67098,\n",
       " 58585,\n",
       " 600,\n",
       " 8800,\n",
       " 160,\n",
       " 2500,\n",
       " 1251,\n",
       " 4363,\n",
       " 8492,\n",
       " 10,\n",
       " 71936,\n",
       " 11030,\n",
       " 512,\n",
       " 203,\n",
       " 20203,\n",
       " 375,\n",
       " 4217,\n",
       " 35899,\n",
       " 1998,\n",
       " 120,\n",
       " 35,\n",
       " 22381,\n",
       " 30,\n",
       " 84,\n",
       " 1342,\n",
       " 1513,\n",
       " 25344,\n",
       " 345,\n",
       " 5200,\n",
       " 67990,\n",
       " 64317,\n",
       " 33283,\n",
       " 11,\n",
       " 174,\n",
       " 844,\n",
       " 1952,\n",
       " 2542,\n",
       " 1080,\n",
       " 43,\n",
       " 1260,\n",
       " 98,\n",
       " 1661,\n",
       " 25282,\n",
       " 41,\n",
       " 1232,\n",
       " 2591,\n",
       " 71944,\n",
       " 1400,\n",
       " 71941,\n",
       " 408,\n",
       " 6130,\n",
       " 2701,\n",
       " 71945,\n",
       " 71939,\n",
       " 71943,\n",
       " 71942,\n",
       " 28054,\n",
       " 31284,\n",
       " 76,\n",
       " 23,\n",
       " 2554,\n",
       " 46,\n",
       " 1399,\n",
       " 219,\n",
       " 2814,\n",
       " 27827,\n",
       " 205,\n",
       " 2600,\n",
       " 768,\n",
       " 3207,\n",
       " 55,\n",
       " 932,\n",
       " 996,\n",
       " 2148,\n",
       " 41445,\n",
       " 10007,\n",
       " 1184,\n",
       " 16,\n",
       " 4300,\n",
       " 1727,\n",
       " 45,\n",
       " 24869,\n",
       " 5740,\n",
       " 244,\n",
       " 16328,\n",
       " 7370,\n",
       " 3825,\n",
       " 42324,\n",
       " 74,\n",
       " 2000,\n",
       " 71940,\n",
       " 15399,\n",
       " 2852,\n",
       " 71937,\n",
       " 1250,\n",
       " 514,\n",
       " 2680,\n",
       " 6133,\n",
       " 1497,\n",
       " 30254,\n",
       " 67098,\n",
       " 58585,\n",
       " 600,\n",
       " 8800,\n",
       " 160,\n",
       " 2500,\n",
       " 1251,\n",
       " 4363,\n",
       " 8492,\n",
       " 10,\n",
       " 71936,\n",
       " 11030,\n",
       " 512,\n",
       " 203,\n",
       " 20203,\n",
       " 375,\n",
       " 4217,\n",
       " 35899,\n",
       " 1998,\n",
       " 120,\n",
       " 35,\n",
       " 22381]"
      ]
     },
     "execution_count": 44,
     "metadata": {},
     "output_type": "execute_result"
    }
   ],
   "source": [
    "file_nums"
   ]
  },
  {
   "cell_type": "markdown",
   "metadata": {},
   "source": [
    "9. What does the soup object's text look like? Use the .text method and print only the\n",
    "first 2,000 characters (do not print the whole thing, as it is too long)."
   ]
  },
  {
   "cell_type": "code",
   "execution_count": 45,
   "metadata": {},
   "outputs": [
    {
     "name": "stdout",
     "output_type": "stream",
     "text": [
      "\n",
      "\n",
      "\n",
      "\n",
      "Top 100 | Project Gutenberg\n",
      "\n",
      "\n",
      "\n",
      "\n",
      "\n",
      "\n",
      "\n",
      "\n",
      "\n",
      "\n",
      "\n",
      "\n",
      "\n",
      "\n",
      "\n",
      "\n",
      "\n",
      "\n",
      "\n",
      "\n",
      "\n",
      "\n",
      "\n",
      "\n",
      "\n",
      "\n",
      "\n",
      "Menu▾\n",
      "\n",
      "\n",
      "\n",
      "About\n",
      "          ▾\n",
      "\n",
      "▾\n",
      "\n",
      "\n",
      "About Project Gutenberg\n",
      "Collection Development\n",
      "Contact Us\n",
      "History & Philosophy\n",
      "Permissions & License\n",
      "Privacy Policy\n",
      "Terms of Use\n",
      "\n",
      "\n",
      "\n",
      "Search and Browse\n",
      "      \t  ▾\n",
      "\n",
      "▾\n",
      "\n",
      "\n",
      "Book Search\n",
      "Bookshelves\n",
      "Frequently Downloaded\n",
      "Offline Catalogs\n",
      "\n",
      "\n",
      "\n",
      "Help\n",
      "          ▾\n",
      "\n",
      "▾\n",
      "\n",
      "\n",
      "All help topics →\n",
      "Copyright How-To\n",
      "Errata, Fixes and Bug Reports\n",
      "File Formats\n",
      "Frequently Asked Questions\n",
      "Policies →\n",
      "Public Domain eBook Submission\n",
      "Submitting Your Own Work\n",
      "Tablets, Phones and eReaders\n",
      "The Attic →\n",
      "\n",
      "\n",
      "Donate\n",
      "\n",
      "\n",
      "\n",
      "\n",
      "\n",
      "\n",
      "\n",
      "\n",
      "\n",
      "\n",
      "Donation\n",
      "\n",
      "\n",
      "\n",
      "\n",
      "\n",
      "\n",
      "\n",
      "To determine the ranking we count the times each file gets downloaded.\n",
      "Both HTTP and FTP transfers are counted.\n",
      "Only transfers from ibiblio.org are counted as we have no access to our mirrors log files.\n",
      "Multiple downloads from the same IP address on the same day count as one download.\n",
      "IP addresses that download more than 100 files a day are considered\n",
      "robots and are not considered.\n",
      "Books made out of multiple files like most audio books are counted\n",
      "if any file is downloaded.\n",
      "\n",
      "Downloaded Books\n",
      "2023-10-24247068\n",
      "last 7 days1531055\n",
      "last 30 days6641348\n",
      "\n",
      "Pretty Pictures\n",
      "\n",
      "Top 100 EBooks yesterday —\n",
      "  Top 100 Authors yesterday —\n",
      "  Top 100 EBooks last 7 days —\n",
      "  Top 100 Authors last 7 days —\n",
      "  Top 100 EBooks last 30 days —\n",
      "  Top 100 Authors last 30 days\n",
      "\n",
      "Top 100 EBooks yesterday\n",
      "\n",
      "Frankenstein; Or, The Modern Prometheus by Mary Wollstonecraft Shelley (3945)\n",
      "Pride and Prejudice by Jane Austen (1968)\n",
      "Romeo and Juliet by William Shakespeare (1930)\n",
      "The Scarlet Letter by Nathaniel Hawthorne (1585)\n",
      "Dracula by Bram Stoker (1244)\n",
      "Metamorphosis by Franz Kafka (1174)\n",
      "Toodle and Noodle Flat-tail: The Jolly Beaver Boys by Howard Roger Garis (1166)\n",
      "The Great Gatsby by F. Scott  Fitzgerald (1160)\n",
      "Calculus Made Easy by Silvanus P.  Thompson (1137)\n",
      "Alice's Adventures in Wonderland by Lewis Carroll (1137)\n",
      "The Picture of Dorian Gray by Oscar Wilde (936)\n",
      "The Importance of Being Earnest: A Trivial Comedy for Seriou\n"
     ]
    }
   ],
   "source": [
    "print(soup.text[:2000])"
   ]
  },
  {
   "cell_type": "markdown",
   "metadata": {},
   "source": [
    "10. Search in the extracted text (using a regular expression) from the soup object to\n",
    "find the names of the top 100 eBooks (yesterday's ranking)."
   ]
  },
  {
   "cell_type": "code",
   "execution_count": 47,
   "metadata": {},
   "outputs": [],
   "source": [
    "ebooks = []"
   ]
  },
  {
   "cell_type": "markdown",
   "metadata": {},
   "source": [
    "11. Create a starting index. It should point at the text Top 100 Ebooks yesterday. Use\n",
    "the splitlines method of soup.text. It splits the lines of text of the soup object."
   ]
  },
  {
   "cell_type": "code",
   "execution_count": 53,
   "metadata": {},
   "outputs": [],
   "source": [
    "starting_index = soup.text.splitlines().index('Top 100 EBooks yesterday') + 9"
   ]
  },
  {
   "cell_type": "markdown",
   "metadata": {},
   "source": [
    "12. Loop 1-100 to add the strings of the next 100 lines to this temporary list. Hint: use\n",
    "the splitlines method."
   ]
  },
  {
   "cell_type": "code",
   "execution_count": 54,
   "metadata": {},
   "outputs": [],
   "source": [
    "for i in range(101):\n",
    "    ebooks.append(soup.text.splitlines()[starting_index + i])"
   ]
  },
  {
   "cell_type": "code",
   "execution_count": 55,
   "metadata": {},
   "outputs": [
    {
     "data": {
      "text/plain": [
       "['The Great Gatsby by F. Scott  Fitzgerald (1160)',\n",
       " 'Calculus Made Easy by Silvanus P.  Thompson (1137)',\n",
       " \"Alice's Adventures in Wonderland by Lewis Carroll (1137)\",\n",
       " 'The Picture of Dorian Gray by Oscar Wilde (936)',\n",
       " 'The Importance of Being Earnest: A Trivial Comedy for Serious People by Oscar Wilde (930)',\n",
       " 'The Yellow Wallpaper by Charlotte Perkins Gilman (915)',\n",
       " \"A Doll's House : a play by Henrik Ibsen (902)\",\n",
       " 'A Modest Proposal by Jonathan Swift (888)',\n",
       " 'The Strange Case of Dr. Jekyll and Mr. Hyde by Robert Louis Stevenson (845)',\n",
       " 'Jane Eyre: An Autobiography by Charlotte Brontë (768)',\n",
       " 'A Tale of Two Cities by Charles Dickens (737)',\n",
       " 'The Adventures of Sherlock Holmes by Arthur Conan Doyle (672)',\n",
       " 'The Jewish State by Theodor Herzl (662)',\n",
       " 'The Legend of Sleepy Hollow by Washington Irving (649)',\n",
       " 'The Prince by Niccolò Machiavelli (643)',\n",
       " \"Grimms' Fairy Tales by Jacob Grimm and Wilhelm Grimm (627)\",\n",
       " 'Fragments of voyages and travels, including anecdotes of a naval life : by Basil Hall (622)',\n",
       " 'Great Expectations by Charles Dickens (613)',\n",
       " 'Children of men by Eden Phillpotts (595)',\n",
       " 'The Souls of Black Folk by W. E. B.  Du Bois (577)',\n",
       " 'The Iliad by Homer (565)',\n",
       " 'Moby Dick; Or, The Whale by Herman Melville (564)',\n",
       " \"Frank Merriwell's brother : by Burt L. Standish (522)\",\n",
       " 'Gratitude by Roy Norton (510)',\n",
       " 'Popular lessons in astronomy, on a new plan : by Francis J.  Grund (507)',\n",
       " 'Plants and their children by Frances Theodora Parsons (504)',\n",
       " 'The Brothers Karamazov by Fyodor Dostoyevsky (502)',\n",
       " 'Josefine Mutzenbacher by Felix Salten (502)',\n",
       " 'Adventures of Huckleberry Finn by Mark Twain (502)',\n",
       " 'Narrative of the Life of Frederick Douglass, an American Slave by Frederick Douglass (502)',\n",
       " 'Crime and Punishment by Fyodor Dostoyevsky (490)',\n",
       " 'A Christmas Carol in Prose; Being a Ghost Story of Christmas by Charles Dickens (481)',\n",
       " 'Anna Karenina by graf Leo Tolstoy (478)',\n",
       " 'Heart of Darkness by Joseph Conrad (475)',\n",
       " 'Dubliners by James Joyce (475)',\n",
       " 'The Kama Sutra of Vatsyayana by Vatsyayana (453)',\n",
       " 'Walden, and On The Duty Of Civil Disobedience by Henry David Thoreau (444)',\n",
       " 'War and Peace by graf Leo Tolstoy (422)',\n",
       " 'Wuthering Heights by Emily Brontë (418)',\n",
       " 'Leviathan by Thomas Hobbes (417)',\n",
       " 'The Wonderful Wizard of Oz by L. Frank  Baum (411)',\n",
       " 'The Fall of the House of Usher by Edgar Allan Poe (410)',\n",
       " 'Don Quixote by Miguel de Cervantes Saavedra (404)',\n",
       " 'The Works of Edgar Allan Poe — Volume 2 by Edgar Allan Poe (398)',\n",
       " 'Frankenstein; Or, The Modern Prometheus by Mary Wollstonecraft Shelley (396)',\n",
       " 'Carmilla by Joseph Sheridan Le Fanu (389)',\n",
       " 'The Count of Monte Cristo by Alexandre Dumas and Auguste Maquet (389)',\n",
       " 'Peter Pan by J. M.  Barrie (386)',\n",
       " 'Ulysses by James Joyce (378)',\n",
       " 'The Odyssey by Homer (368)',\n",
       " 'Anne of Green Gables by L. M.  Montgomery (364)',\n",
       " 'The Rámáyan of Válmíki, translated into English verse by Valmiki (359)',\n",
       " 'Tractatus Logico-Philosophicus by Ludwig Wittgenstein (354)',\n",
       " 'A Study in Scarlet by Arthur Conan Doyle (345)',\n",
       " 'Beowulf: An Anglo-Saxon Epic Poem (344)',\n",
       " 'Second Treatise of Government by John Locke (343)',\n",
       " 'Pygmalion by Bernard Shaw (343)',\n",
       " 'Frankenstein; Or, The Modern Prometheus by Mary Wollstonecraft Shelley (340)',\n",
       " 'The Adventures of Tom Sawyer, Complete by Mark Twain (339)',\n",
       " 'Don Quijote by Miguel de Cervantes Saavedra (339)',\n",
       " 'The Australian aboriginal by Herbert Basedow (337)',\n",
       " 'The Interesting Narrative of the Life of Olaudah Equiano, Or Gustavus Vassa, The African by Equiano (333)',\n",
       " 'The Hound of the Baskervilles by Arthur Conan Doyle (311)',\n",
       " 'The writings of Clement of Alexandria, Vol. 1 (of 2) by Saint of Alexandria Clement (310)',\n",
       " 'Anthem by Ayn Rand (309)',\n",
       " 'Little Women by Louisa May Alcott (309)',\n",
       " 'Meditations by Emperor of Rome Marcus Aurelius (308)',\n",
       " 'The Extraordinary Adventures of Arsène Lupin, Gentleman-Burglar by Maurice Leblanc (304)',\n",
       " 'The Republic by Plato (297)',\n",
       " 'The Romance of Lust: A classic Victorian erotic novel by Anonymous (293)',\n",
       " 'Winnie-the-Pooh by A. A.  Milne (291)',\n",
       " 'The Prophet by Kahlil Gibran (291)',\n",
       " 'Notes from the Underground by Fyodor Dostoyevsky (290)',\n",
       " 'The divine comedy by Dante Alighieri (290)',\n",
       " 'The Awakening, and Selected Short Stories by Kate Chopin (290)',\n",
       " 'Siddhartha by Hermann Hesse (284)',\n",
       " \"Le Morte d'Arthur: Volume 1 by Sir Thomas Malory (281)\",\n",
       " 'Beyond Good and Evil by Friedrich Wilhelm Nietzsche (272)',\n",
       " 'The King in Yellow by Robert W.  Chambers (272)',\n",
       " 'The King James Version of the Bible (271)',\n",
       " 'Pen and pencil sketches of Faröe and Iceland : by Andrew James Symington (271)',\n",
       " 'Incidents in the Life of a Slave Girl, Written by Herself by Harriet A.  Jacobs (261)',\n",
       " 'Mosses from an old manse by Nathaniel Hawthorne (258)',\n",
       " \"Uncle Tom's Cabin by Harriet Beecher Stowe (257)\",\n",
       " 'Autobiography of Benjamin Franklin by Benjamin Franklin (256)',\n",
       " 'An Occurrence at Owl Creek Bridge by Ambrose Bierce (256)',\n",
       " 'A Portrait of the Artist as a Young Man by James Joyce (253)',\n",
       " 'The Philippines a Century Hence by José Rizal (251)',\n",
       " 'Thus Spake Zarathustra: A Book for All and None by Friedrich Wilhelm Nietzsche (250)',\n",
       " 'Treasure Island by Robert Louis Stevenson (248)',\n",
       " 'The Time Machine by H. G.  Wells (247)',\n",
       " 'Myths and Legends of Ancient Greece and Rome by E. M. Berens (246)',\n",
       " 'Sense and Sensibility by Jane Austen (237)',\n",
       " '',\n",
       " '',\n",
       " 'Top 100 EBooks yesterday —',\n",
       " '  Top 100 Authors yesterday —',\n",
       " '  Top 100 EBooks last 7 days —',\n",
       " '  Top 100 Authors last 7 days —',\n",
       " '  Top 100 EBooks last 30 days —',\n",
       " '  Top 100 Authors last 30 days',\n",
       " 'The Great Gatsby by F. Scott  Fitzgerald (1160)',\n",
       " 'Calculus Made Easy by Silvanus P.  Thompson (1137)',\n",
       " \"Alice's Adventures in Wonderland by Lewis Carroll (1137)\",\n",
       " 'The Picture of Dorian Gray by Oscar Wilde (936)',\n",
       " 'The Importance of Being Earnest: A Trivial Comedy for Serious People by Oscar Wilde (930)',\n",
       " 'The Yellow Wallpaper by Charlotte Perkins Gilman (915)',\n",
       " \"A Doll's House : a play by Henrik Ibsen (902)\",\n",
       " 'A Modest Proposal by Jonathan Swift (888)',\n",
       " 'The Strange Case of Dr. Jekyll and Mr. Hyde by Robert Louis Stevenson (845)',\n",
       " 'Jane Eyre: An Autobiography by Charlotte Brontë (768)',\n",
       " 'A Tale of Two Cities by Charles Dickens (737)',\n",
       " 'The Adventures of Sherlock Holmes by Arthur Conan Doyle (672)',\n",
       " 'The Jewish State by Theodor Herzl (662)',\n",
       " 'The Legend of Sleepy Hollow by Washington Irving (649)',\n",
       " 'The Prince by Niccolò Machiavelli (643)',\n",
       " \"Grimms' Fairy Tales by Jacob Grimm and Wilhelm Grimm (627)\",\n",
       " 'Fragments of voyages and travels, including anecdotes of a naval life : by Basil Hall (622)',\n",
       " 'Great Expectations by Charles Dickens (613)',\n",
       " 'Children of men by Eden Phillpotts (595)',\n",
       " 'The Souls of Black Folk by W. E. B.  Du Bois (577)',\n",
       " 'The Iliad by Homer (565)',\n",
       " 'Moby Dick; Or, The Whale by Herman Melville (564)',\n",
       " \"Frank Merriwell's brother : by Burt L. Standish (522)\",\n",
       " 'Gratitude by Roy Norton (510)',\n",
       " 'Popular lessons in astronomy, on a new plan : by Francis J.  Grund (507)',\n",
       " 'Plants and their children by Frances Theodora Parsons (504)',\n",
       " 'The Brothers Karamazov by Fyodor Dostoyevsky (502)',\n",
       " 'Josefine Mutzenbacher by Felix Salten (502)',\n",
       " 'Adventures of Huckleberry Finn by Mark Twain (502)',\n",
       " 'Narrative of the Life of Frederick Douglass, an American Slave by Frederick Douglass (502)',\n",
       " 'Crime and Punishment by Fyodor Dostoyevsky (490)',\n",
       " 'A Christmas Carol in Prose; Being a Ghost Story of Christmas by Charles Dickens (481)',\n",
       " 'Anna Karenina by graf Leo Tolstoy (478)',\n",
       " 'Heart of Darkness by Joseph Conrad (475)',\n",
       " 'Dubliners by James Joyce (475)',\n",
       " 'The Kama Sutra of Vatsyayana by Vatsyayana (453)',\n",
       " 'Walden, and On The Duty Of Civil Disobedience by Henry David Thoreau (444)',\n",
       " 'War and Peace by graf Leo Tolstoy (422)',\n",
       " 'Wuthering Heights by Emily Brontë (418)',\n",
       " 'Leviathan by Thomas Hobbes (417)',\n",
       " 'The Wonderful Wizard of Oz by L. Frank  Baum (411)',\n",
       " 'The Fall of the House of Usher by Edgar Allan Poe (410)',\n",
       " 'Don Quixote by Miguel de Cervantes Saavedra (404)',\n",
       " 'The Works of Edgar Allan Poe — Volume 2 by Edgar Allan Poe (398)',\n",
       " 'Frankenstein; Or, The Modern Prometheus by Mary Wollstonecraft Shelley (396)',\n",
       " 'Carmilla by Joseph Sheridan Le Fanu (389)',\n",
       " 'The Count of Monte Cristo by Alexandre Dumas and Auguste Maquet (389)',\n",
       " 'Peter Pan by J. M.  Barrie (386)',\n",
       " 'Ulysses by James Joyce (378)',\n",
       " 'The Odyssey by Homer (368)',\n",
       " 'Anne of Green Gables by L. M.  Montgomery (364)',\n",
       " 'The Rámáyan of Válmíki, translated into English verse by Valmiki (359)',\n",
       " 'Tractatus Logico-Philosophicus by Ludwig Wittgenstein (354)',\n",
       " 'A Study in Scarlet by Arthur Conan Doyle (345)',\n",
       " 'Beowulf: An Anglo-Saxon Epic Poem (344)',\n",
       " 'Second Treatise of Government by John Locke (343)',\n",
       " 'Pygmalion by Bernard Shaw (343)',\n",
       " 'Frankenstein; Or, The Modern Prometheus by Mary Wollstonecraft Shelley (340)',\n",
       " 'The Adventures of Tom Sawyer, Complete by Mark Twain (339)',\n",
       " 'Don Quijote by Miguel de Cervantes Saavedra (339)',\n",
       " 'The Australian aboriginal by Herbert Basedow (337)',\n",
       " 'The Interesting Narrative of the Life of Olaudah Equiano, Or Gustavus Vassa, The African by Equiano (333)',\n",
       " 'The Hound of the Baskervilles by Arthur Conan Doyle (311)',\n",
       " 'The writings of Clement of Alexandria, Vol. 1 (of 2) by Saint of Alexandria Clement (310)',\n",
       " 'Anthem by Ayn Rand (309)',\n",
       " 'Little Women by Louisa May Alcott (309)',\n",
       " 'Meditations by Emperor of Rome Marcus Aurelius (308)',\n",
       " 'The Extraordinary Adventures of Arsène Lupin, Gentleman-Burglar by Maurice Leblanc (304)',\n",
       " 'The Republic by Plato (297)',\n",
       " 'The Romance of Lust: A classic Victorian erotic novel by Anonymous (293)',\n",
       " 'Winnie-the-Pooh by A. A.  Milne (291)',\n",
       " 'The Prophet by Kahlil Gibran (291)',\n",
       " 'Notes from the Underground by Fyodor Dostoyevsky (290)',\n",
       " 'The divine comedy by Dante Alighieri (290)',\n",
       " 'The Awakening, and Selected Short Stories by Kate Chopin (290)',\n",
       " 'Siddhartha by Hermann Hesse (284)',\n",
       " \"Le Morte d'Arthur: Volume 1 by Sir Thomas Malory (281)\",\n",
       " 'Beyond Good and Evil by Friedrich Wilhelm Nietzsche (272)',\n",
       " 'The King in Yellow by Robert W.  Chambers (272)',\n",
       " 'The King James Version of the Bible (271)',\n",
       " 'Pen and pencil sketches of Faröe and Iceland : by Andrew James Symington (271)',\n",
       " 'Incidents in the Life of a Slave Girl, Written by Herself by Harriet A.  Jacobs (261)',\n",
       " 'Mosses from an old manse by Nathaniel Hawthorne (258)',\n",
       " \"Uncle Tom's Cabin by Harriet Beecher Stowe (257)\",\n",
       " 'Autobiography of Benjamin Franklin by Benjamin Franklin (256)',\n",
       " 'An Occurrence at Owl Creek Bridge by Ambrose Bierce (256)',\n",
       " 'A Portrait of the Artist as a Young Man by James Joyce (253)',\n",
       " 'The Philippines a Century Hence by José Rizal (251)',\n",
       " 'Thus Spake Zarathustra: A Book for All and None by Friedrich Wilhelm Nietzsche (250)',\n",
       " 'Treasure Island by Robert Louis Stevenson (248)',\n",
       " 'The Time Machine by H. G.  Wells (247)',\n",
       " 'Myths and Legends of Ancient Greece and Rome by E. M. Berens (246)',\n",
       " 'Sense and Sensibility by Jane Austen (237)',\n",
       " '',\n",
       " '',\n",
       " 'Top 100 EBooks yesterday —',\n",
       " '  Top 100 Authors yesterday —',\n",
       " '  Top 100 EBooks last 7 days —',\n",
       " '  Top 100 Authors last 7 days —',\n",
       " '  Top 100 EBooks last 30 days —',\n",
       " '  Top 100 Authors last 30 days']"
      ]
     },
     "execution_count": 55,
     "metadata": {},
     "output_type": "execute_result"
    }
   ],
   "source": [
    "ebooks"
   ]
  },
  {
   "cell_type": "markdown",
   "metadata": {},
   "source": [
    "13. Use a regular expression to extract only text from the name strings and append it\n",
    "to an empty list. Use match and span to find the indices and use them."
   ]
  },
  {
   "cell_type": "code",
   "execution_count": 56,
   "metadata": {},
   "outputs": [],
   "source": [
    "top_100_text = []"
   ]
  },
  {
   "cell_type": "code",
   "execution_count": 57,
   "metadata": {},
   "outputs": [],
   "source": [
    "for i in range(100):\n",
    "    start,stop = re.match('^[a-zA-Z ]*',ebooks[i]).span()\n",
    "    top_100_text.append(ebooks[i][start:stop])"
   ]
  },
  {
   "cell_type": "code",
   "execution_count": 58,
   "metadata": {},
   "outputs": [
    {
     "data": {
      "text/plain": [
       "['The Great Gatsby by F',\n",
       " 'Calculus Made Easy by Silvanus P',\n",
       " 'Alice',\n",
       " 'The Picture of Dorian Gray by Oscar Wilde ',\n",
       " 'The Importance of Being Earnest',\n",
       " 'The Yellow Wallpaper by Charlotte Perkins Gilman ',\n",
       " 'A Doll',\n",
       " 'A Modest Proposal by Jonathan Swift ',\n",
       " 'The Strange Case of Dr',\n",
       " 'Jane Eyre',\n",
       " 'A Tale of Two Cities by Charles Dickens ',\n",
       " 'The Adventures of Sherlock Holmes by Arthur Conan Doyle ',\n",
       " 'The Jewish State by Theodor Herzl ',\n",
       " 'The Legend of Sleepy Hollow by Washington Irving ',\n",
       " 'The Prince by Niccol',\n",
       " 'Grimms',\n",
       " 'Fragments of voyages and travels',\n",
       " 'Great Expectations by Charles Dickens ',\n",
       " 'Children of men by Eden Phillpotts ',\n",
       " 'The Souls of Black Folk by W',\n",
       " 'The Iliad by Homer ',\n",
       " 'Moby Dick',\n",
       " 'Frank Merriwell',\n",
       " 'Gratitude by Roy Norton ',\n",
       " 'Popular lessons in astronomy',\n",
       " 'Plants and their children by Frances Theodora Parsons ',\n",
       " 'The Brothers Karamazov by Fyodor Dostoyevsky ',\n",
       " 'Josefine Mutzenbacher by Felix Salten ',\n",
       " 'Adventures of Huckleberry Finn by Mark Twain ',\n",
       " 'Narrative of the Life of Frederick Douglass',\n",
       " 'Crime and Punishment by Fyodor Dostoyevsky ',\n",
       " 'A Christmas Carol in Prose',\n",
       " 'Anna Karenina by graf Leo Tolstoy ',\n",
       " 'Heart of Darkness by Joseph Conrad ',\n",
       " 'Dubliners by James Joyce ',\n",
       " 'The Kama Sutra of Vatsyayana by Vatsyayana ',\n",
       " 'Walden',\n",
       " 'War and Peace by graf Leo Tolstoy ',\n",
       " 'Wuthering Heights by Emily Bront',\n",
       " 'Leviathan by Thomas Hobbes ',\n",
       " 'The Wonderful Wizard of Oz by L',\n",
       " 'The Fall of the House of Usher by Edgar Allan Poe ',\n",
       " 'Don Quixote by Miguel de Cervantes Saavedra ',\n",
       " 'The Works of Edgar Allan Poe ',\n",
       " 'Frankenstein',\n",
       " 'Carmilla by Joseph Sheridan Le Fanu ',\n",
       " 'The Count of Monte Cristo by Alexandre Dumas and Auguste Maquet ',\n",
       " 'Peter Pan by J',\n",
       " 'Ulysses by James Joyce ',\n",
       " 'The Odyssey by Homer ',\n",
       " 'Anne of Green Gables by L',\n",
       " 'The R',\n",
       " 'Tractatus Logico',\n",
       " 'A Study in Scarlet by Arthur Conan Doyle ',\n",
       " 'Beowulf',\n",
       " 'Second Treatise of Government by John Locke ',\n",
       " 'Pygmalion by Bernard Shaw ',\n",
       " 'Frankenstein',\n",
       " 'The Adventures of Tom Sawyer',\n",
       " 'Don Quijote by Miguel de Cervantes Saavedra ',\n",
       " 'The Australian aboriginal by Herbert Basedow ',\n",
       " 'The Interesting Narrative of the Life of Olaudah Equiano',\n",
       " 'The Hound of the Baskervilles by Arthur Conan Doyle ',\n",
       " 'The writings of Clement of Alexandria',\n",
       " 'Anthem by Ayn Rand ',\n",
       " 'Little Women by Louisa May Alcott ',\n",
       " 'Meditations by Emperor of Rome Marcus Aurelius ',\n",
       " 'The Extraordinary Adventures of Ars',\n",
       " 'The Republic by Plato ',\n",
       " 'The Romance of Lust',\n",
       " 'Winnie',\n",
       " 'The Prophet by Kahlil Gibran ',\n",
       " 'Notes from the Underground by Fyodor Dostoyevsky ',\n",
       " 'The divine comedy by Dante Alighieri ',\n",
       " 'The Awakening',\n",
       " 'Siddhartha by Hermann Hesse ',\n",
       " 'Le Morte d',\n",
       " 'Beyond Good and Evil by Friedrich Wilhelm Nietzsche ',\n",
       " 'The King in Yellow by Robert W',\n",
       " 'The King James Version of the Bible ',\n",
       " 'Pen and pencil sketches of Far',\n",
       " 'Incidents in the Life of a Slave Girl',\n",
       " 'Mosses from an old manse by Nathaniel Hawthorne ',\n",
       " 'Uncle Tom',\n",
       " 'Autobiography of Benjamin Franklin by Benjamin Franklin ',\n",
       " 'An Occurrence at Owl Creek Bridge by Ambrose Bierce ',\n",
       " 'A Portrait of the Artist as a Young Man by James Joyce ',\n",
       " 'The Philippines a Century Hence by Jos',\n",
       " 'Thus Spake Zarathustra',\n",
       " 'Treasure Island by Robert Louis Stevenson ',\n",
       " 'The Time Machine by H',\n",
       " 'Myths and Legends of Ancient Greece and Rome by E',\n",
       " 'Sense and Sensibility by Jane Austen ',\n",
       " '',\n",
       " '',\n",
       " 'Top ',\n",
       " '  Top ',\n",
       " '  Top ',\n",
       " '  Top ',\n",
       " '  Top ']"
      ]
     },
     "execution_count": 58,
     "metadata": {},
     "output_type": "execute_result"
    }
   ],
   "source": [
    "top_100_text"
   ]
  },
  {
   "cell_type": "markdown",
   "metadata": {},
   "source": [
    "# Activity 10"
   ]
  },
  {
   "cell_type": "markdown",
   "metadata": {},
   "source": [
    "1. Import urllib.request, urllib.parse, urllib.error, and json."
   ]
  },
  {
   "cell_type": "code",
   "execution_count": 59,
   "metadata": {},
   "outputs": [],
   "source": [
    "import urllib.request, urllib.parse, urllib.error\n",
    "import json"
   ]
  },
  {
   "cell_type": "markdown",
   "metadata": {},
   "source": [
    "2. Load the secret API key (you have to get one from the OMDb website and use that;\n",
    "it has a daily limit of 1,000) from a JSON file stored in the same folder in a variable,\n",
    "by using json.loads."
   ]
  },
  {
   "cell_type": "markdown",
   "metadata": {},
   "source": [
    "3. Obtain a key and store it in JSON as APIkeys.json."
   ]
  },
  {
   "cell_type": "markdown",
   "metadata": {},
   "source": [
    "4. Open the APIkeys.json file."
   ]
  },
  {
   "cell_type": "code",
   "execution_count": 76,
   "metadata": {},
   "outputs": [],
   "source": [
    "with open('APIkeys.json') as f:\n",
    "    keys = json.load(f)\n",
    "    omdb_api_key = keys['API_key']"
   ]
  },
  {
   "cell_type": "markdown",
   "metadata": {},
   "source": [
    "5. Assign the OMDb portal (http://www.omdbapi.com/?) as a string to a variable."
   ]
  },
  {
   "cell_type": "code",
   "execution_count": 77,
   "metadata": {},
   "outputs": [],
   "source": [
    "base_url = 'http://www.omdbapi.com/?'"
   ]
  },
  {
   "cell_type": "markdown",
   "metadata": {},
   "source": [
    "6. Create a variable called apikey with the last portion of the URL\n",
    "(&apikey=secretapikey), where secretapikey is your own API key."
   ]
  },
  {
   "cell_type": "code",
   "execution_count": 78,
   "metadata": {},
   "outputs": [],
   "source": [
    "apikey = '&apikey='+omdb_api_key"
   ]
  },
  {
   "cell_type": "markdown",
   "metadata": {},
   "source": [
    "7. Write a utility function called print_json to print the movie data from a JSON file\n",
    "(which we will get from the portal)."
   ]
  },
  {
   "cell_type": "code",
   "execution_count": 79,
   "metadata": {},
   "outputs": [],
   "source": [
    "def print_json(data):\n",
    "    keys = ['Title', 'Year', 'Rated', 'Released', 'Runtime', 'Genre', 'Director', 'Writer', \n",
    "            'Actors', 'Plot', 'Language', 'Country', 'Awards', 'Ratings',\n",
    "            'Metascore', 'imdbRating', 'imdbVotes', 'imdbID']\n",
    "    \n",
    "    for key in keys:\n",
    "        if key in list(data.keys()):\n",
    "            print(f\"{key}: {data[key]}\")"
   ]
  },
  {
   "cell_type": "markdown",
   "metadata": {},
   "source": [
    "8. Write a utility function to download a poster of the movie based on the\n",
    "information from the JSON dataset and save it in your local folder. Use the\n",
    "os module. The poster data is stored in the JSON key Poster. Use the Python\n",
    "command to open a file and write the poster data. Close the file after you're done.\n",
    "This function will save the poster data as an image file."
   ]
  },
  {
   "cell_type": "code",
   "execution_count": 80,
   "metadata": {},
   "outputs": [],
   "source": [
    "def save_poster(data):\n",
    "    import os\n",
    "    title = data['Title']\n",
    "    poster_url = data['Poster']\n",
    "    poster_file_extension=poster_url.split('.')[-1]\n",
    "    poster_data = urllib.request.urlopen(poster_url).read()\n",
    "    savelocation=os.getcwd()+'\\\\'+'Posters'+'\\\\'\n",
    "    if not os.path.isdir(savelocation):\n",
    "        os.mkdir(savelocation)\n",
    "    filename=savelocation+str(title)+'.'+poster_file_extension\n",
    "    f=open(filename,'wb')\n",
    "    f.write(poster_data)\n",
    "    f.close()"
   ]
  },
  {
   "cell_type": "markdown",
   "metadata": {},
   "source": [
    "9. Write a utility function called search_movie to search for a movie by its name,\n",
    "print the downloaded JSON data, and save the movie poster in the local folder.\n",
    "Use a try-except loop for this. Use the previously created serviceurl and apikey\n",
    "variables. You have to pass on a dictionary with a key, t, and the movie name as\n",
    "the corresponding value to the urllib.parse.urlencode() function and then add\n",
    "the serviceurl and apikey to the output of the function to construct the full URL.\n",
    "This URL will be used to access the data. The JSON data has a key called Response.\n",
    "If it is True, that means the read was successful. Check this before processing the\n",
    "data. If it's not successful, then print the JSON key Error, which will contain the\n",
    "appropriate error message returned by the movie database."
   ]
  },
  {
   "cell_type": "code",
   "execution_count": 81,
   "metadata": {},
   "outputs": [],
   "source": [
    "def find_movie(title):\n",
    "    try:\n",
    "        url = base_url + urllib.parse.urlencode({'t': str(title)}) + apikey\n",
    "        print(f'Retrieving the data of \"{title}\" now... ')\n",
    "        print(url)\n",
    "        uh = urllib.request.urlopen(url)\n",
    "        data = uh.read()\n",
    "        json_data = json.loads(data)\n",
    "\n",
    "        if json_data['Response']=='True':\n",
    "            print_json(json_data)\n",
    "            if json_data['Poster']!='N/A':\n",
    "                save_poster(json_data)\n",
    "        else:\n",
    "            print(\"Error encountered: \",json_data['Error'])\n",
    "    except urllib.error.URLError as e:\n",
    "        print(f\"ERROR: {e.reason}\")"
   ]
  },
  {
   "cell_type": "markdown",
   "metadata": {},
   "source": [
    "10. Test the search_movie function by entering Titanic."
   ]
  },
  {
   "cell_type": "code",
   "execution_count": 82,
   "metadata": {},
   "outputs": [
    {
     "name": "stdout",
     "output_type": "stream",
     "text": [
      "Retrieving the data of \"Titanic\" now... \n",
      "http://www.omdbapi.com/?t=Titanic&apikey=24222797\n",
      "Title: Titanic\n",
      "Year: 1997\n",
      "Rated: PG-13\n",
      "Released: 19 Dec 1997\n",
      "Runtime: 194 min\n",
      "Genre: Drama, Romance\n",
      "Director: James Cameron\n",
      "Writer: James Cameron\n",
      "Actors: Leonardo DiCaprio, Kate Winslet, Billy Zane\n",
      "Plot: A seventeen-year-old aristocrat falls in love with a kind but poor artist aboard the luxurious, ill-fated R.M.S. Titanic.\n",
      "Language: English, Swedish, Italian, French\n",
      "Country: United States, Mexico\n",
      "Awards: Won 11 Oscars. 126 wins & 83 nominations total\n",
      "Ratings: [{'Source': 'Internet Movie Database', 'Value': '7.9/10'}, {'Source': 'Rotten Tomatoes', 'Value': '88%'}, {'Source': 'Metacritic', 'Value': '75/100'}]\n",
      "Metascore: 75\n",
      "imdbRating: 7.9\n",
      "imdbVotes: 1,248,724\n",
      "imdbID: tt0120338\n",
      "ERROR: [SSL: CERTIFICATE_VERIFY_FAILED] certificate verify failed: unable to get local issuer certificate (_ssl.c:992)\n"
     ]
    }
   ],
   "source": [
    "find_movie(\"Titanic\")"
   ]
  },
  {
   "cell_type": "markdown",
   "metadata": {},
   "source": [
    "11. Test the search_movie function by entering \"Random_error\" (obviously, this will not\n",
    "be found, and you should be able to check whether your error catching code is\n",
    "working properly)."
   ]
  },
  {
   "cell_type": "code",
   "execution_count": 83,
   "metadata": {},
   "outputs": [
    {
     "name": "stdout",
     "output_type": "stream",
     "text": [
      "Retrieving the data of \"Random_error\" now... \n",
      "http://www.omdbapi.com/?t=Random_error&apikey=24222797\n",
      "Error encountered:  Movie not found!\n"
     ]
    }
   ],
   "source": [
    "find_movie(\"Random_error\")"
   ]
  },
  {
   "cell_type": "markdown",
   "metadata": {},
   "source": [
    "# Connect to the Twitter API"
   ]
  },
  {
   "cell_type": "code",
   "execution_count": 125,
   "metadata": {},
   "outputs": [],
   "source": [
    "import requests"
   ]
  },
  {
   "cell_type": "code",
   "execution_count": null,
   "metadata": {},
   "outputs": [],
   "source": [
    "url = \"https://api.chucknorris.io/jokes/random?category=science\"\n",
    "response = requests.request(\"GET\", url)\n",
    "joke = response.json()[\"value\"]\n",
    "print(joke)"
   ]
  },
  {
   "cell_type": "markdown",
   "metadata": {},
   "source": [
    "# Using one of the datasets provided in Weeks 7 & 8, or a dataset of your own, choose 3 of the following visualizations to complete. You must submit via PDF along with your code. You are free to use Matplotlib, Seaborn or another package if you prefer."
   ]
  },
  {
   "cell_type": "code",
   "execution_count": null,
   "metadata": {},
   "outputs": [],
   "source": [
    "import pandas as pd\n",
    "import matplotlib.pyplot as plt"
   ]
  },
  {
   "cell_type": "code",
   "execution_count": null,
   "metadata": {},
   "outputs": [],
   "source": []
  }
 ],
 "metadata": {
  "kernelspec": {
   "display_name": "Python 3.11.2 64-bit",
   "language": "python",
   "name": "python3"
  },
  "language_info": {
   "codemirror_mode": {
    "name": "ipython",
    "version": 3
   },
   "file_extension": ".py",
   "mimetype": "text/x-python",
   "name": "python",
   "nbconvert_exporter": "python",
   "pygments_lexer": "ipython3",
   "version": "3.11.2"
  },
  "orig_nbformat": 4,
  "vscode": {
   "interpreter": {
    "hash": "aee8b7b246df8f9039afb4144a1f6fd8d2ca17a180786b69acc140d282b71a49"
   }
  }
 },
 "nbformat": 4,
 "nbformat_minor": 2
}
