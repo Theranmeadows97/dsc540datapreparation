{
 "cells": [
  {
   "cell_type": "markdown",
   "metadata": {},
   "source": [
    "# Activity 11"
   ]
  },
  {
   "cell_type": "markdown",
   "metadata": {},
   "source": [
    "1. Connect to petsDB and check whether the connection has been successful."
   ]
  },
  {
   "cell_type": "code",
   "execution_count": 1,
   "metadata": {},
   "outputs": [],
   "source": [
    "import sqlite3"
   ]
  },
  {
   "cell_type": "code",
   "execution_count": 12,
   "metadata": {},
   "outputs": [],
   "source": [
    "def check_connection(file):\n",
    "    try:\n",
    "        print('Connection successful!')\n",
    "    except Exception as ex:\n",
    "        print('Connection failed!')"
   ]
  },
  {
   "cell_type": "code",
   "execution_count": 13,
   "metadata": {},
   "outputs": [
    {
     "name": "stdout",
     "output_type": "stream",
     "text": [
      "Connection successful!\n"
     ]
    }
   ],
   "source": [
    "petsdb = sqlite3.connect(\"petsdb\")\n",
    "\n",
    "check_connection(petsdb)"
   ]
  },
  {
   "cell_type": "markdown",
   "metadata": {},
   "source": [
    "2. Find the different age groups in the persons database."
   ]
  },
  {
   "cell_type": "code",
   "execution_count": 16,
   "metadata": {},
   "outputs": [
    {
     "name": "stdout",
     "output_type": "stream",
     "text": [
      "2 people age: 5\n",
      "1 people age: 6\n",
      "1 people age: 7\n",
      "3 people age: 8\n",
      "1 people age: 9\n",
      "2 people age: 11\n",
      "3 people age: 12\n",
      "1 people age: 13\n",
      "4 people age: 14\n",
      "2 people age: 16\n",
      "2 people age: 17\n",
      "3 people age: 18\n",
      "1 people age: 19\n",
      "3 people age: 22\n",
      "2 people age: 23\n",
      "3 people age: 24\n",
      "2 people age: 25\n",
      "1 people age: 27\n",
      "1 people age: 30\n",
      "3 people age: 31\n",
      "1 people age: 32\n",
      "1 people age: 33\n",
      "2 people age: 34\n",
      "3 people age: 35\n",
      "3 people age: 36\n",
      "1 people age: 37\n",
      "2 people age: 39\n",
      "1 people age: 40\n",
      "1 people age: 42\n",
      "2 people age: 44\n",
      "2 people age: 48\n",
      "1 people age: 49\n",
      "1 people age: 50\n",
      "2 people age: 51\n",
      "2 people age: 52\n",
      "2 people age: 53\n",
      "2 people age: 54\n",
      "1 people age: 58\n",
      "1 people age: 59\n",
      "1 people age: 60\n",
      "1 people age: 61\n",
      "2 people age: 62\n",
      "1 people age: 63\n",
      "2 people age: 65\n",
      "2 people age: 66\n",
      "1 people age: 67\n",
      "3 people age: 68\n",
      "1 people age: 69\n",
      "1 people age: 70\n",
      "4 people age: 71\n",
      "1 people age: 72\n",
      "5 people age: 73\n",
      "3 people age: 74\n"
     ]
    }
   ],
   "source": [
    "c = petsdb.cursor()\n",
    "\n",
    "for people, age in c.execute(\"SELECT count(*), age FROM persons GROUP BY age\"):\n",
    "    print(people, \"people\", \"age:\", age)"
   ]
  },
  {
   "cell_type": "markdown",
   "metadata": {},
   "source": [
    "3. Find the age group that has the maximum number of people."
   ]
  },
  {
   "cell_type": "code",
   "execution_count": 17,
   "metadata": {},
   "outputs": [
    {
     "name": "stdout",
     "output_type": "stream",
     "text": [
      "5 people age: 73\n",
      "4 people age: 71\n",
      "4 people age: 14\n",
      "3 people age: 74\n",
      "3 people age: 68\n",
      "3 people age: 36\n",
      "3 people age: 35\n",
      "3 people age: 31\n",
      "3 people age: 24\n",
      "3 people age: 22\n",
      "3 people age: 18\n",
      "3 people age: 12\n",
      "3 people age: 8\n",
      "2 people age: 66\n",
      "2 people age: 65\n",
      "2 people age: 62\n",
      "2 people age: 54\n",
      "2 people age: 53\n",
      "2 people age: 52\n",
      "2 people age: 51\n",
      "2 people age: 48\n",
      "2 people age: 44\n",
      "2 people age: 39\n",
      "2 people age: 34\n",
      "2 people age: 25\n",
      "2 people age: 23\n",
      "2 people age: 17\n",
      "2 people age: 16\n",
      "2 people age: 11\n",
      "2 people age: 5\n",
      "1 people age: 72\n",
      "1 people age: 70\n",
      "1 people age: 69\n",
      "1 people age: 67\n",
      "1 people age: 63\n",
      "1 people age: 61\n",
      "1 people age: 60\n",
      "1 people age: 59\n",
      "1 people age: 58\n",
      "1 people age: 50\n",
      "1 people age: 49\n",
      "1 people age: 42\n",
      "1 people age: 40\n",
      "1 people age: 37\n",
      "1 people age: 33\n",
      "1 people age: 32\n",
      "1 people age: 30\n",
      "1 people age: 27\n",
      "1 people age: 19\n",
      "1 people age: 13\n",
      "1 people age: 9\n",
      "1 people age: 7\n",
      "1 people age: 6\n"
     ]
    }
   ],
   "source": [
    "for people, age in c.execute(\"SELECT count(*), age FROM persons GROUP BY age ORDER BY count(*) DESC\"):\n",
    "    print(people, \"people\", \"age:\", age)"
   ]
  },
  {
   "cell_type": "markdown",
   "metadata": {},
   "source": [
    "The 73 year old group is the biggest group with 5 people"
   ]
  },
  {
   "cell_type": "markdown",
   "metadata": {},
   "source": [
    "4. Find the people who do not have a last name."
   ]
  },
  {
   "cell_type": "code",
   "execution_count": 19,
   "metadata": {},
   "outputs": [
    {
     "name": "stdout",
     "output_type": "stream",
     "text": [
      "f_name: Erica\n",
      "f_name: Jordi\n",
      "f_name: Chasity\n",
      "f_name: Gregg\n",
      "f_name: Cary\n",
      "f_name: Francisca\n",
      "f_name: Raleigh\n",
      "f_name: Maria\n",
      "f_name: Mariane\n",
      "f_name: Mona\n",
      "f_name: Kayla\n",
      "f_name: Karlie\n",
      "f_name: Morris\n",
      "f_name: Sandy\n",
      "f_name: Hector\n",
      "f_name: Hiram\n",
      "f_name: Tressa\n",
      "f_name: Berry\n",
      "f_name: Pearline\n",
      "f_name: Maynard\n",
      "f_name: Dorian\n",
      "f_name: Mylene\n",
      "f_name: Lafayette\n",
      "f_name: Tara\n",
      "f_name: Destiny\n",
      "f_name: Lesly\n",
      "f_name: Perry\n",
      "f_name: Maritza\n",
      "f_name: Grant\n",
      "f_name: Laury\n",
      "f_name: Name\n",
      "f_name: Estefania\n",
      "f_name: Destiney\n",
      "f_name: Jaquelin\n",
      "f_name: Alfonzo\n",
      "f_name: Lisandro\n",
      "f_name: Priscilla\n",
      "f_name: Elenora\n",
      "f_name: Rudolph\n",
      "f_name: Ona\n",
      "f_name: Rebeca\n",
      "f_name: Sigurd\n",
      "f_name: Alice\n",
      "f_name: Dane\n",
      "f_name: Judge\n",
      "f_name: Allene\n",
      "f_name: Jalen\n",
      "f_name: Myron\n",
      "f_name: Travon\n",
      "f_name: Shayna\n",
      "f_name: Myah\n",
      "f_name: Letha\n",
      "f_name: Felton\n",
      "f_name: London\n",
      "f_name: Koby\n",
      "f_name: Golden\n",
      "f_name: Anissa\n",
      "f_name: Sid\n",
      "f_name: Ernesto\n",
      "f_name: Josianne\n"
     ]
    }
   ],
   "source": [
    "for name in c.execute(\"SELECT first_name FROM persons WHERE last_name IS null\"):\n",
    "    print('f_name:', name[0])"
   ]
  },
  {
   "cell_type": "markdown",
   "metadata": {},
   "source": [
    "5. Find out how many people have more than one pet."
   ]
  },
  {
   "cell_type": "code",
   "execution_count": 20,
   "metadata": {},
   "outputs": [
    {
     "name": "stdout",
     "output_type": "stream",
     "text": [
      "43 people have more than one pet\n"
     ]
    }
   ],
   "source": [
    "res = c.execute(\"SELECT count(*) FROM (SELECT count(owner_id) FROM pets GROUP BY owner_id HAVING count(owner_id)>1)\")\n",
    "\n",
    "for row in res:\n",
    "    print(row[0], 'people have more than one pet')"
   ]
  },
  {
   "cell_type": "markdown",
   "metadata": {},
   "source": [
    "6. Find out how many pets have received treatment."
   ]
  },
  {
   "cell_type": "code",
   "execution_count": 31,
   "metadata": {},
   "outputs": [
    {
     "name": "stdout",
     "output_type": "stream",
     "text": [
      "36 pets have received treatment.\n"
     ]
    }
   ],
   "source": [
    "res = c.execute(\"SELECT count(*) FROM pets WHERE treatment_done = 1\")\n",
    "\n",
    "for row in res:\n",
    "    print(row[0], 'pets have received treatment.')"
   ]
  },
  {
   "cell_type": "markdown",
   "metadata": {},
   "source": [
    "7. Find out how many pets have received treatment and the type of pet is known."
   ]
  },
  {
   "cell_type": "code",
   "execution_count": 30,
   "metadata": {},
   "outputs": [
    {
     "name": "stdout",
     "output_type": "stream",
     "text": [
      "16 pets\n"
     ]
    }
   ],
   "source": [
    "res = c.execute(\"SELECT count(*) FROM pets WHERE treatment_done=1 AND pet_type IS NOT null\")\n",
    "\n",
    "for row in res:\n",
    "    print(row[0], 'pets')"
   ]
  },
  {
   "cell_type": "markdown",
   "metadata": {},
   "source": [
    "8. Find out how many pets are from the city called east port."
   ]
  },
  {
   "cell_type": "code",
   "execution_count": 29,
   "metadata": {},
   "outputs": [
    {
     "name": "stdout",
     "output_type": "stream",
     "text": [
      "49 pets are from east eort.\n"
     ]
    }
   ],
   "source": [
    "res = c.execute(\"SELECT count(*) FROM pets JOIN persons on pets.owner_id = persons.id WHERE persons.city='east port'\")\n",
    "\n",
    "for row in res:\n",
    "    print(row[0], 'pets are from east eort.')"
   ]
  },
  {
   "cell_type": "markdown",
   "metadata": {},
   "source": [
    "9. Find out how many pets are from the city called east port and who received a\n",
    "treatment."
   ]
  },
  {
   "cell_type": "code",
   "execution_count": 28,
   "metadata": {},
   "outputs": [
    {
     "name": "stdout",
     "output_type": "stream",
     "text": [
      "11 pets from east port received treatment.\n"
     ]
    }
   ],
   "source": [
    "res = c.execute(\"SELECT count(*) FROM pets JOIN persons on pets.owner_id = persons.id WHERE persons.city='east port' AND pets.treatment_done=1\")\n",
    "\n",
    "for row in res:\n",
    "    print(row[0], 'pets from east port received treatment.')"
   ]
  }
 ],
 "metadata": {
  "kernelspec": {
   "display_name": "Python 3.11.2 64-bit",
   "language": "python",
   "name": "python3"
  },
  "language_info": {
   "codemirror_mode": {
    "name": "ipython",
    "version": 3
   },
   "file_extension": ".py",
   "mimetype": "text/x-python",
   "name": "python",
   "nbconvert_exporter": "python",
   "pygments_lexer": "ipython3",
   "version": "3.11.2"
  },
  "orig_nbformat": 4,
  "vscode": {
   "interpreter": {
    "hash": "aee8b7b246df8f9039afb4144a1f6fd8d2ca17a180786b69acc140d282b71a49"
   }
  }
 },
 "nbformat": 4,
 "nbformat_minor": 2
}
