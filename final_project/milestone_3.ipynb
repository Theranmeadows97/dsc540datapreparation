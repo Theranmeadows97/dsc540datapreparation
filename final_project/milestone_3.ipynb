{
 "cells": [
  {
   "cell_type": "code",
   "execution_count": 148,
   "metadata": {},
   "outputs": [],
   "source": [
    "from bs4 import BeautifulSoup\n",
    "import pandas as pd"
   ]
  },
  {
   "cell_type": "code",
   "execution_count": 149,
   "metadata": {},
   "outputs": [],
   "source": [
    "wiki_page = \"/Users/theranmeadows/Desktop/dsc540datapreparation/final_project/List of Marvel Cinematic Universe films - wikipedia.html\"\n",
    "\n",
    "fd = open( wiki_page, \"r\")\n",
    "soup = BeautifulSoup(fd)"
   ]
  },
  {
   "cell_type": "code",
   "execution_count": 150,
   "metadata": {},
   "outputs": [],
   "source": [
    "fd.close()"
   ]
  },
  {
   "cell_type": "code",
   "execution_count": 151,
   "metadata": {},
   "outputs": [],
   "source": [
    "#print(soup.prettify())"
   ]
  },
  {
   "cell_type": "code",
   "execution_count": 152,
   "metadata": {},
   "outputs": [],
   "source": [
    "marvel_table = soup.find(\"table\", attrs ={\"class\": \"wikitable\"})"
   ]
  },
  {
   "cell_type": "code",
   "execution_count": 153,
   "metadata": {},
   "outputs": [],
   "source": [
    "marvel_table_data = marvel_table.tbody.find_all('tr')"
   ]
  },
  {
   "cell_type": "code",
   "execution_count": 154,
   "metadata": {},
   "outputs": [],
   "source": [
    "headings = []\n",
    "\n",
    "for th in marvel_table_data[0].find_all('th'):\n",
    "    headings.append(th.text.replace('\\n', ' ').strip())"
   ]
  },
  {
   "cell_type": "code",
   "execution_count": 155,
   "metadata": {},
   "outputs": [
    {
     "data": {
      "text/plain": [
       "['Film', 'U.S. release date', 'Director(s)', 'Screenwriter(s)', 'Producer(s)']"
      ]
     },
     "execution_count": 155,
     "metadata": {},
     "output_type": "execute_result"
    }
   ],
   "source": [
    "headings"
   ]
  },
  {
   "cell_type": "code",
   "execution_count": 156,
   "metadata": {},
   "outputs": [],
   "source": [
    "marvel_row_data = [[td.get_text().strip() for td in tr.findAll('td')] for tr in marvel_table_data]"
   ]
  },
  {
   "cell_type": "code",
   "execution_count": 157,
   "metadata": {},
   "outputs": [
    {
     "data": {
      "text/plain": [
       "[[],\n",
       " [],\n",
       " ['Iron Man',\n",
       "  'May 2, 2008',\n",
       "  'Jon Favreau[27]',\n",
       "  'Mark Fergus & Hawk Ostby and Art Marcum & Matt Holloway[27][28]',\n",
       "  'Avi Arad and Kevin Feige'],\n",
       " ['The Incredible Hulk',\n",
       "  'June 13, 2008',\n",
       "  'Louis Leterrier[29]',\n",
       "  'Zak Penn[30]',\n",
       "  'Avi Arad, Gale Anne Hurdand Kevin Feige'],\n",
       " ['Iron Man 2',\n",
       "  'May 7, 2010',\n",
       "  'Jon Favreau[31]',\n",
       "  'Justin Theroux[32]',\n",
       "  'Kevin Feige'],\n",
       " ['Thor',\n",
       "  'May 6, 2011',\n",
       "  'Kenneth Branagh[33]',\n",
       "  'Ashley Edward Miller & Zack Stentz and Don Payne[34]'],\n",
       " ['Captain America: The First Avenger',\n",
       "  'July 22, 2011',\n",
       "  'Joe Johnston[35]',\n",
       "  'Christopher Markus & Stephen McFeely[36]'],\n",
       " ['The Avengers', 'May 4, 2012', 'Joss Whedon[37]'],\n",
       " [],\n",
       " ['Iron Man 3',\n",
       "  'May 3, 2013',\n",
       "  'Shane Black[38]',\n",
       "  'Drew Pearce and Shane Black[38][39]',\n",
       "  'Kevin Feige'],\n",
       " ['Thor: The Dark World',\n",
       "  'November 8, 2013',\n",
       "  'Alan Taylor[40]',\n",
       "  'Christopher L. Yost and Christopher Markus & Stephen McFeely[41]'],\n",
       " ['Captain America: The Winter Soldier',\n",
       "  'April 4, 2014',\n",
       "  'Anthony and Joe Russo[42]',\n",
       "  'Christopher Markus & Stephen McFeely[43]'],\n",
       " ['Guardians of the Galaxy',\n",
       "  'August 1, 2014',\n",
       "  'James Gunn[44]',\n",
       "  'James Gunn and Nicole Perlman[45]'],\n",
       " ['Avengers: Age of Ultron', 'May 1, 2015', 'Joss Whedon[46]'],\n",
       " ['Ant-Man',\n",
       "  'July 17, 2015',\n",
       "  'Peyton Reed[47]',\n",
       "  'Edgar Wright & Joe Cornish and Adam McKay & Paul Rudd[48]'],\n",
       " [],\n",
       " ['Captain America: Civil War',\n",
       "  'May 6, 2016',\n",
       "  'Anthony and Joe Russo[49]',\n",
       "  'Christopher Markus & Stephen McFeely[49]',\n",
       "  'Kevin Feige'],\n",
       " ['Doctor Strange',\n",
       "  'November 4, 2016',\n",
       "  'Scott Derrickson[50]',\n",
       "  'Jon Spaihts and Scott Derrickson & C. Robert Cargill[51]'],\n",
       " ['Guardians of the Galaxy Vol. 2', 'May 5, 2017', 'James Gunn[45]'],\n",
       " ['Spider-Man: Homecoming',\n",
       "  'July 7, 2017',\n",
       "  'Jon Watts[52]',\n",
       "  'Jonathan Goldstein & John Francis Daley andJon Watts & Christopher Ford andChris McKenna & Erik Sommers[53]',\n",
       "  'Kevin Feige and Amy Pascal'],\n",
       " ['Thor: Ragnarok',\n",
       "  'November 3, 2017',\n",
       "  'Taika Waititi[54]',\n",
       "  'Eric Pearson and Craig Kyle & Christopher L. Yost[55][56]',\n",
       "  'Kevin Feige'],\n",
       " ['Black Panther',\n",
       "  'February 16, 2018',\n",
       "  'Ryan Coogler[57]',\n",
       "  'Ryan Coogler & Joe Robert Cole[58][59]'],\n",
       " ['Avengers: Infinity War',\n",
       "  'April 27, 2018',\n",
       "  'Anthony and Joe Russo[60]',\n",
       "  'Christopher Markus & Stephen McFeely[61]'],\n",
       " ['Ant-Man and the Wasp',\n",
       "  'July 6, 2018',\n",
       "  'Peyton Reed[62]',\n",
       "  'Chris McKenna & Erik Sommers andPaul Rudd & Andrew Barrer & Gabriel Ferrari[63]',\n",
       "  'Kevin Feige and Stephen Broussard'],\n",
       " ['Captain Marvel',\n",
       "  'March 8, 2019',\n",
       "  'Anna Boden & Ryan Fleck[64]',\n",
       "  'Anna Boden & Ryan Fleck & Geneva Robertson-Dworet[65]',\n",
       "  'Kevin Feige'],\n",
       " ['Avengers: Endgame',\n",
       "  'April 26, 2019',\n",
       "  'Anthony and Joe Russo[60]',\n",
       "  'Christopher Markus & Stephen McFeely[61]'],\n",
       " ['Spider-Man: Far From Home',\n",
       "  'July 2, 2019',\n",
       "  'Jon Watts[66]',\n",
       "  'Chris McKenna & Erik Sommers[67]',\n",
       "  'Kevin Feige and Amy Pascal']]"
      ]
     },
     "execution_count": 157,
     "metadata": {},
     "output_type": "execute_result"
    }
   ],
   "source": [
    "marvel_row_data"
   ]
  },
  {
   "cell_type": "code",
   "execution_count": 146,
   "metadata": {},
   "outputs": [],
   "source": [
    "marvel_wikitable_df = pd.DataFrame(marvel_row_data, columns = headings)"
   ]
  },
  {
   "cell_type": "code",
   "execution_count": 147,
   "metadata": {},
   "outputs": [],
   "source": [
    "data = marvel_table.tbody.findAll('tr', recursive = False)[1].findAll('td', recursive = False)\n",
    "\n",
    "data_tables = [] \n",
    "for td in data: \n",
    "    data_tables.append(td.findAll('table'))"
   ]
  },
  {
   "cell_type": "code",
   "execution_count": 49,
   "metadata": {},
   "outputs": [
    {
     "name": "stdout",
     "output_type": "stream",
     "text": [
      "[]\n"
     ]
    }
   ],
   "source": [
    "source_names = [source.findAll('a')[0].getText() for source in sources_list]\n",
    "print(source_names)"
   ]
  }
 ],
 "metadata": {
  "kernelspec": {
   "display_name": "Python 3.11.2 64-bit",
   "language": "python",
   "name": "python3"
  },
  "language_info": {
   "codemirror_mode": {
    "name": "ipython",
    "version": 3
   },
   "file_extension": ".py",
   "mimetype": "text/x-python",
   "name": "python",
   "nbconvert_exporter": "python",
   "pygments_lexer": "ipython3",
   "version": "3.11.2"
  },
  "orig_nbformat": 4,
  "vscode": {
   "interpreter": {
    "hash": "aee8b7b246df8f9039afb4144a1f6fd8d2ca17a180786b69acc140d282b71a49"
   }
  }
 },
 "nbformat": 4,
 "nbformat_minor": 2
}
