{
 "cells": [
  {
   "cell_type": "markdown",
   "metadata": {},
   "source": [
    "# Milestone 1"
   ]
  },
  {
   "cell_type": "markdown",
   "metadata": {},
   "source": [
    "## Topic: How many kills do comic book superheros actually have?"
   ]
  },
  {
   "cell_type": "markdown",
   "metadata": {},
   "source": [
    "### Flat File Source"
   ]
  },
  {
   "cell_type": "markdown",
   "metadata": {},
   "source": [
    "https://github.com/fivethirtyeight/data/blob/master/comic-characters/marvel-wikia-data.csv \n",
    "\n",
    "This data set contains over 16k rows of the characters belonging to Marvel. It contains both Superheros and bystanders. It has 13 variables measuring basic descriptions about each character. It has some cleaning to be done and as I will only be using “Super” people or those that have super powers, most will be cut from the list."
   ]
  },
  {
   "cell_type": "markdown",
   "metadata": {},
   "source": [
    "### API Source"
   ]
  },
  {
   "cell_type": "markdown",
   "metadata": {},
   "source": [
    "https://superheroapi.com/?ref=apilist.fun \n",
    "This is an API that brings in stats for the heroes and a more detailed list of the powers and abilities."
   ]
  },
  {
   "cell_type": "markdown",
   "metadata": {},
   "source": [
    "### Website Source"
   ]
  },
  {
   "cell_type": "markdown",
   "metadata": {},
   "source": [
    "https://en.wikipedia.org/wiki/List_of_Marvel_Cinematic_Universe_films\n",
    "This is the website I will mostly be using as the main source. It contains all current Marvel Cinematic Universe films (MCU) films or shows which is well over 30."
   ]
  },
  {
   "cell_type": "markdown",
   "metadata": {},
   "source": [
    "#### Relationships"
   ]
  },
  {
   "cell_type": "markdown",
   "metadata": {},
   "source": [
    "The relationship that I plan to use between the data sets will be the superhero name. That is the one thing common among all three data sets and I know they will be talking about the same hero since there is a specific one that exists in the MCU. "
   ]
  },
  {
   "cell_type": "markdown",
   "metadata": {},
   "source": [
    "#### Plan of Action"
   ]
  },
  {
   "cell_type": "markdown",
   "metadata": {},
   "source": [
    "The cleaning will take most of the work to complete. For my flat file source, it will be isolating the characters from the website source and making sure they are the same characters. The API will be the easiest to clean as there won't be any. Once the API data is pulled (which will be the last) I can match up that data to the “cleaned” data of the flat file source. After the data is matched up, the visualization can begin along with filtering and finding descriptive analytics and insights.\n",
    "\n",
    "This data cannot change the world by any means especially since it is something fictional. It is merely a popular and current franchise that people are into nowadays. For that reason, and the fact that all this data is compiled voluntarily, there are little to no ethical implications to worry about. The challenges I will face are with cleaning the flat file source.  The volume of the rows to filter through will be a time consuming obstacle."
   ]
  }
 ],
 "metadata": {
  "kernelspec": {
   "display_name": "Python 3.11.2 64-bit",
   "language": "python",
   "name": "python3"
  },
  "language_info": {
   "name": "python",
   "version": "3.11.2"
  },
  "orig_nbformat": 4,
  "vscode": {
   "interpreter": {
    "hash": "aee8b7b246df8f9039afb4144a1f6fd8d2ca17a180786b69acc140d282b71a49"
   }
  }
 },
 "nbformat": 4,
 "nbformat_minor": 2
}
