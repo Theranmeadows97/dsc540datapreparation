{
 "cells": [
  {
   "cell_type": "markdown",
   "metadata": {},
   "source": [
    "# Milestone 4"
   ]
  },
  {
   "cell_type": "code",
   "execution_count": 222,
   "metadata": {},
   "outputs": [],
   "source": [
    "import ssl\n",
    "import certifi\n",
    "from urllib.request import urlopen\n",
    "import urllib.request, urllib.parse, urllib.error\n",
    "import json\n",
    "import requests"
   ]
  },
  {
   "cell_type": "code",
   "execution_count": 223,
   "metadata": {},
   "outputs": [],
   "source": [
    "base_url = \"https://superheroapi.com/api/\""
   ]
  },
  {
   "cell_type": "code",
   "execution_count": 224,
   "metadata": {},
   "outputs": [
    {
     "data": {
      "text/plain": [
       "<Response [200]>"
      ]
     },
     "execution_count": 224,
     "metadata": {},
     "output_type": "execute_result"
    }
   ],
   "source": [
    "response = requests.get(base_url)\n",
    "response"
   ]
  },
  {
   "cell_type": "code",
   "execution_count": 225,
   "metadata": {},
   "outputs": [],
   "source": [
    "with open('APIkeys.json') as f:\n",
    "    keys = json.load(f)\n",
    "    superhero_api_key = keys['API_key']"
   ]
  },
  {
   "cell_type": "code",
   "execution_count": 226,
   "metadata": {},
   "outputs": [
    {
     "data": {
      "text/plain": [
       "'https://superheroapi.com/api/6737755422986079'"
      ]
     },
     "execution_count": 226,
     "metadata": {},
     "output_type": "execute_result"
    }
   ],
   "source": [
    "access_token = base_url + superhero_api_key\n",
    "access_token"
   ]
  },
  {
   "cell_type": "code",
   "execution_count": 227,
   "metadata": {},
   "outputs": [],
   "source": [
    "def print_json(data):\n",
    "    keys = ['results']\n",
    "    \n",
    "    for key in keys:\n",
    "        if key in list(data.keys()):\n",
    "            print(f\"{key}: {data[key]}\")"
   ]
  },
  {
   "cell_type": "code",
   "execution_count": 228,
   "metadata": {},
   "outputs": [],
   "source": [
    "# example request by name: https://superheroapi.com/api/access-token/search/name\n",
    "\n",
    "def find_hero(name):\n",
    "    try:\n",
    "        url = access_token + \"/search/\" + name\n",
    "        print(f'Retrieving the data of \"{name}\" now... ')\n",
    "        print(url)\n",
    "        uh = urllib.request.urlopen(url)\n",
    "        data = uh.read()\n",
    "        json_data = json.loads(data)\n",
    "\n",
    "        if json_data['response'] == 'success':\n",
    "            print_json(json_data)\n",
    "        else:\n",
    "            print(\"Error encountered: \",json_data['Error'])\n",
    "    except urllib.error.URLError as e:\n",
    "        print(f\"ERROR: {e.reason}\")"
   ]
  },
  {
   "cell_type": "code",
   "execution_count": 229,
   "metadata": {},
   "outputs": [
    {
     "name": "stdout",
     "output_type": "stream",
     "text": [
      "Retrieving the data of \"ironman\" now... \n",
      "https://superheroapi.com/api/6737755422986079/search/ironman\n",
      "results: [{'id': '732', 'name': 'Ironman', 'powerstats': {'intelligence': '100', 'strength': '85', 'speed': '58', 'durability': '85', 'power': '100', 'combat': '64'}, 'biography': {'full-name': 'Tony Stark', 'alter-egos': 'No alter egos found.', 'aliases': ['Iron Knight', 'Hogan Potts', 'Spare Parts Man', 'Cobalt Man II', 'Crimson Dynamo', 'Ironman'], 'place-of-birth': 'Long Island, New York', 'first-appearance': 'Tales of Suspence #39 (March, 1963)', 'publisher': 'Marvel Comics', 'alignment': 'good'}, 'appearance': {'gender': 'Male', 'race': 'Human', 'height': [\"6'6\", '198 cm'], 'weight': ['425 lb', '191 kg'], 'eye-color': 'Blue', 'hair-color': 'Black'}, 'work': {'occupation': 'Inventor, Industrialist; former United States Secretary of Defense', 'base': 'Seattle, Washington'}, 'connections': {'group-affiliation': 'Avengers, Illuminati, Stark Resilient; formerly S.H.I.E.L.D., leader of Stark Enterprises, the Pro-Registration Superhero Unit, New Avengers, Mighty Avengers, Hellfire Club, Force Works, Avengers West Coast, United States Department of Defense.', 'relatives': 'Howard Anthony Stark (father, deceased), Maria Stark (mother, deceased), Morgan Stark (cousin), Isaac Stark (ancestor)'}, 'image': {'url': 'https://www.superherodb.com/pictures2/portraits/10/100/85.jpg'}}]\n"
     ]
    }
   ],
   "source": [
    "find_hero(\"ironman\")"
   ]
  }
 ],
 "metadata": {
  "kernelspec": {
   "display_name": "Python 3.11.2 64-bit",
   "language": "python",
   "name": "python3"
  },
  "language_info": {
   "codemirror_mode": {
    "name": "ipython",
    "version": 3
   },
   "file_extension": ".py",
   "mimetype": "text/x-python",
   "name": "python",
   "nbconvert_exporter": "python",
   "pygments_lexer": "ipython3",
   "version": "3.11.2"
  },
  "orig_nbformat": 4,
  "vscode": {
   "interpreter": {
    "hash": "aee8b7b246df8f9039afb4144a1f6fd8d2ca17a180786b69acc140d282b71a49"
   }
  }
 },
 "nbformat": 4,
 "nbformat_minor": 2
}
